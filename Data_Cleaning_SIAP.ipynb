{
  "nbformat": 4,
  "nbformat_minor": 0,
  "metadata": {
    "colab": {
      "name": "Data Cleaning SIAP.ipynb",
      "provenance": [],
      "collapsed_sections": [
        "Zb8t7WY_OGdY",
        "wcwc-h4SOJ33",
        "9D0n-BoeONuB",
        "fWBOYnK3StfJ"
      ],
      "toc_visible": true,
      "authorship_tag": "ABX9TyPShw+dF8DzwM/ZRM43WwJV"
    },
    "kernelspec": {
      "name": "python3",
      "display_name": "Python 3"
    }
  },
  "cells": [
    {
      "cell_type": "markdown",
      "metadata": {
        "id": "HFzwRBqIL8SB",
        "colab_type": "text"
      },
      "source": [
        "# Prep"
      ]
    },
    {
      "cell_type": "code",
      "metadata": {
        "id": "QqGIe6aFLhOg",
        "colab_type": "code",
        "outputId": "86f3b87c-444a-46ae-e122-45f156f4f567",
        "colab": {
          "base_uri": "https://localhost:8080/",
          "height": 122
        }
      },
      "source": [
        "# ONLY FOR GOOGLE COLABORATORY, OTHERWISE RUN IT LOCALLY.\n",
        "from google.colab import drive\n",
        "drive.mount('/content/drive')"
      ],
      "execution_count": 0,
      "outputs": [
        {
          "output_type": "stream",
          "text": [
            "Go to this URL in a browser: https://accounts.google.com/o/oauth2/auth?client_id=947318989803-6bn6qk8qdgf4n4g3pfee6491hc0brc4i.apps.googleusercontent.com&redirect_uri=urn%3aietf%3awg%3aoauth%3a2.0%3aoob&response_type=code&scope=email%20https%3a%2f%2fwww.googleapis.com%2fauth%2fdocs.test%20https%3a%2f%2fwww.googleapis.com%2fauth%2fdrive%20https%3a%2f%2fwww.googleapis.com%2fauth%2fdrive.photos.readonly%20https%3a%2f%2fwww.googleapis.com%2fauth%2fpeopleapi.readonly\n",
            "\n",
            "Enter your authorization code:\n",
            "··········\n",
            "Mounted at /content/drive\n"
          ],
          "name": "stdout"
        }
      ]
    },
    {
      "cell_type": "code",
      "metadata": {
        "id": "xHmHhpSMYFIN",
        "colab_type": "code",
        "outputId": "a4cb0f99-c5d1-44c1-cbef-c7c6ff3cea16",
        "colab": {
          "base_uri": "https://localhost:8080/",
          "height": 122
        }
      },
      "source": [
        "# !pip install xlsxwriter"
      ],
      "execution_count": 0,
      "outputs": [
        {
          "output_type": "stream",
          "text": [
            "Collecting xlsxwriter\n",
            "\u001b[?25l  Downloading https://files.pythonhosted.org/packages/c8/a2/e5f28b67b7d883c9a6585c0ef32b4bb002bff0292b3008f3d6d3fc7eee59/XlsxWriter-1.2.9-py2.py3-none-any.whl (141kB)\n",
            "\r\u001b[K     |██▎                             | 10kB 19.4MB/s eta 0:00:01\r\u001b[K     |████▋                           | 20kB 1.5MB/s eta 0:00:01\r\u001b[K     |███████                         | 30kB 1.8MB/s eta 0:00:01\r\u001b[K     |█████████▎                      | 40kB 2.1MB/s eta 0:00:01\r\u001b[K     |███████████▋                    | 51kB 2.0MB/s eta 0:00:01\r\u001b[K     |█████████████▉                  | 61kB 2.2MB/s eta 0:00:01\r\u001b[K     |████████████████▏               | 71kB 2.4MB/s eta 0:00:01\r\u001b[K     |██████████████████▌             | 81kB 2.6MB/s eta 0:00:01\r\u001b[K     |████████████████████▉           | 92kB 2.5MB/s eta 0:00:01\r\u001b[K     |███████████████████████▏        | 102kB 2.7MB/s eta 0:00:01\r\u001b[K     |█████████████████████████▌      | 112kB 2.7MB/s eta 0:00:01\r\u001b[K     |███████████████████████████▊    | 122kB 2.7MB/s eta 0:00:01\r\u001b[K     |██████████████████████████████  | 133kB 2.7MB/s eta 0:00:01\r\u001b[K     |████████████████████████████████| 143kB 2.7MB/s \n",
            "\u001b[?25hInstalling collected packages: xlsxwriter\n",
            "Successfully installed xlsxwriter-1.2.9\n"
          ],
          "name": "stdout"
        }
      ]
    },
    {
      "cell_type": "code",
      "metadata": {
        "id": "7c2kGSloLuBN",
        "colab_type": "code",
        "colab": {}
      },
      "source": [
        "# import required libraries\n",
        "import pandas as pd\n",
        "import numpy as np\n",
        "import pylab as pl\n",
        "import seaborn as sns\n",
        "import time\n",
        "from openpyxl.reader.excel import load_workbook\n",
        "%matplotlib inline"
      ],
      "execution_count": 0,
      "outputs": []
    },
    {
      "cell_type": "code",
      "metadata": {
        "id": "HNXEnVONL_OI",
        "colab_type": "code",
        "colab": {}
      },
      "source": [
        "path = '/content/drive/My Drive/World Bank/Siap Tanggap/Data/'\n",
        "path_output = '/content/drive/My Drive/World Bank/Siap Tanggap/Output/'\n",
        "# convert downloaded files to csv (or excel but you gotta change the code) file first! \n",
        "# the downloaded file is a xml file, so pandas can't read it.\n",
        "\n",
        "# filename\n",
        "OT = 'OT.csv' # One-Time questionnaire\n",
        "WK = 'Weekly.csv' # Weekly questionnaire\n",
        "MT = 'Monthly.csv' # Monthly questionnaire\n",
        "SHP = 'semarang_kelurahan.csv' # Indonesia shp file in 2016 per Desa/Kelurahan, from Edith\n",
        "rw_list = \"RW.xlsx\" # from Jeremia"
      ],
      "execution_count": 0,
      "outputs": []
    },
    {
      "cell_type": "code",
      "metadata": {
        "id": "OHYKOBUnVQ99",
        "colab_type": "code",
        "colab": {}
      },
      "source": [
        "# formatting data\n",
        "def formatdf(df):\n",
        "  # stripping whitespaces\n",
        "  df['Kecamatan'] = df['Kecamatan'].str.strip()\n",
        "  df['Kelurahan'] = df['Kelurahan'].str.strip()\n",
        "  # change RT values to integer, previously was float\n",
        "  df.RT = df.RT.astype(int)\n",
        "  # get rid of empty columns\n",
        "  print(\"no of columns before dropping: {}\".format(len(df.columns)))\n",
        "  df.dropna(how='all', axis=1, inplace=True)\n",
        "  print(\"no of columns after dropping: {}\".format(len(df.columns)))\n",
        "\n",
        "  return df"
      ],
      "execution_count": 0,
      "outputs": []
    },
    {
      "cell_type": "markdown",
      "metadata": {
        "id": "dW4gwf73cTNh",
        "colab_type": "text"
      },
      "source": [
        "## GIS shapefile *keys"
      ]
    },
    {
      "cell_type": "code",
      "metadata": {
        "id": "t_kTXIFQdYJs",
        "colab_type": "code",
        "outputId": "1b4a7e0f-f5ed-4f40-f279-20becd7f29ce",
        "colab": {
          "base_uri": "https://localhost:8080/",
          "height": 34
        }
      },
      "source": [
        "# open list of RW excel file\n",
        "rwlist = pd.read_excel(path+rw_list)\n",
        "rwlist['Kecamatan'] = rwlist['Kecamatan'].str.strip()\n",
        "rwlist['Kelurahan'] = rwlist['Kelurahan'].str.strip()\n",
        "kelurahan_list = rwlist[[\"Kecamatan\",\"Kelurahan\"]].drop_duplicates(subset=[\"Kecamatan\",\"Kelurahan\"])\n",
        "kelurahan_list.reset_index(inplace=True)\n",
        "kelurahan_list.drop(columns=[\"index\"], inplace=True)\n",
        "len(kelurahan_list)"
      ],
      "execution_count": 0,
      "outputs": [
        {
          "output_type": "execute_result",
          "data": {
            "text/plain": [
              "177"
            ]
          },
          "metadata": {
            "tags": []
          },
          "execution_count": 525
        }
      ]
    },
    {
      "cell_type": "code",
      "metadata": {
        "id": "rk4Hn6bfcaP2",
        "colab_type": "code",
        "colab": {}
      },
      "source": [
        "# open shp table attribute file\n",
        "shp = pd.read_csv(path+SHP)\n",
        "shp[\"KECAMATAN\"] = shp.KECAMATAN.str.title()\n",
        "shp[\"DESA\"] = shp.DESA.str.title()\n",
        "shp = shp[['KECAMATAN', 'DESA', 'IDDESA']]"
      ],
      "execution_count": 0,
      "outputs": []
    },
    {
      "cell_type": "code",
      "metadata": {
        "id": "G3nVqyBurFwm",
        "colab_type": "code",
        "colab": {}
      },
      "source": [
        "def replace_name(mode,kecamatan,name,kelurahan=None):\n",
        "  \"\"\"\n",
        "  This function change the name of the shp table attribute so it can be merged.\n",
        "  mode: 'kec' to change kecamatan name and 'kel' to change kelurahan name\n",
        "  kecamatan: designated kecamatan to be replaced (according to shp file)\n",
        "  kelurahan: designated kelurahan to be replaced (according to shp file), fill None if mode is 'kec'\n",
        "  name: name to be replaced in kecamatan/kelurahan (string)\n",
        "  \"\"\"\n",
        "  if mode == \"kec\":\n",
        "    shp['kec_siap'][shp['kec_siap']==kecamatan] = name\n",
        "  elif mode == \"kel\":\n",
        "    shp['kel_siap'][(shp['kec_siap']==kecamatan)&(shp['kel_siap']==kelurahan)] = name\n",
        "  else:\n",
        "    print(\"Mode should be written as 'kec' or 'kel'\")\n",
        "  return shp"
      ],
      "execution_count": 0,
      "outputs": []
    },
    {
      "cell_type": "code",
      "metadata": {
        "id": "PKc_nXXrqiI3",
        "colab_type": "code",
        "outputId": "0810eecb-31de-4bc6-d41d-45d0150f0068",
        "colab": {
          "base_uri": "https://localhost:8080/",
          "height": 207
        }
      },
      "source": [
        "shp['kec_siap'] = shp['KECAMATAN']\n",
        "shp['kel_siap'] = shp['DESA']\n",
        "# Kecamatans to be renamed\n",
        "change_kec = [[\"Gunung Pati\",\"Gunungpati\"],[\"Gajah Mungkur\",\"Gajahmungkur\"]]\n",
        "for kec in range(0,len(change_kec)):\n",
        "  shp = replace_name('kec',change_kec[kec][0],change_kec[kec][1])\n",
        "\n",
        "# Kelurahans to be renamed\n",
        "change_kel = [[\"Semarang Selatan\",'Mugassari', 'Mugasari'],\n",
        "              [\"Pedurungan\",'Plamongan Sari', 'Plamongansari'],\n",
        "              ['Gayamsari','Sawahbesar','Sawah Besa'],\n",
        "              ['Gayamsari','Tambakrejo','Tambakharjo'],\n",
        "              ['Semarang Utara','Tanjungmas','Tanjung Mas'],\n",
        "              ['Semarang Barat','Ngemplaksimongan','Ngemplak Simongan'],\n",
        "              ['Semarang Barat','Bojongsalaman','Bojong Salaman'],\n",
        "              ['Semarang Barat','Salamanmloyo','Salaman Mloyo'],\n",
        "              ['Semarang Barat','Tambak Harjo','Tambakharjo'],\n",
        "              ['Semarang Barat','Tawangsari','Tawang Sari'],\n",
        "              ['Semarang Barat','Karang Ayu','Karanganyu'],\n",
        "              ['Semarang Barat','Tawangmas','Tawang Mas'],\n",
        "              ['Tugu','Jerakah','Jrakah'],\n",
        "              ['Tugu','Randu Garut','Randugarut'],\n",
        "              ['Mijen','Kedungpani','Kedungpane'],\n",
        "              ['Gajahmungkur','Karang Rejo','Karangrejo'],\n",
        "              ['Gunungpati','Sumurejo','Sumurrejo'],\n",
        "              ['Gunungpati','Pungangan','Pongangan'],\n",
        "              ['Gayamsari','Sawah Besa','Sawah Besar']]\n",
        "for kel in range(0,len(change_kel)):\n",
        "  shp = replace_name('kel',change_kel[kel][0],change_kel[kel][2],change_kel[kel][1])"
      ],
      "execution_count": 0,
      "outputs": [
        {
          "output_type": "stream",
          "text": [
            "/usr/local/lib/python3.6/dist-packages/ipykernel_launcher.py:10: SettingWithCopyWarning: \n",
            "A value is trying to be set on a copy of a slice from a DataFrame\n",
            "\n",
            "See the caveats in the documentation: https://pandas.pydata.org/pandas-docs/stable/user_guide/indexing.html#returning-a-view-versus-a-copy\n",
            "  # Remove the CWD from sys.path while we load stuff.\n",
            "/usr/local/lib/python3.6/dist-packages/ipykernel_launcher.py:12: SettingWithCopyWarning: \n",
            "A value is trying to be set on a copy of a slice from a DataFrame\n",
            "\n",
            "See the caveats in the documentation: https://pandas.pydata.org/pandas-docs/stable/user_guide/indexing.html#returning-a-view-versus-a-copy\n",
            "  if sys.path[0] == '':\n"
          ],
          "name": "stderr"
        }
      ]
    },
    {
      "cell_type": "code",
      "metadata": {
        "id": "ypmyrebwn2a9",
        "colab_type": "code",
        "outputId": "42b21eea-26ef-4e2e-b536-13293cb5a416",
        "colab": {
          "base_uri": "https://localhost:8080/",
          "height": 51
        }
      },
      "source": [
        "# merge both dataframe\n",
        "shp_code = pd.merge(kelurahan_list, shp,  how='outer', \n",
        "                    left_on=['Kecamatan','Kelurahan'], \n",
        "                    right_on=['kec_siap','kel_siap'])\n",
        "shp_code.drop(columns=shp_code.columns[0:4],inplace=True)\n",
        "print(len(shp_code))\n",
        "shp_code.columns)"
      ],
      "execution_count": 0,
      "outputs": [
        {
          "output_type": "stream",
          "text": [
            "177\n",
            "Index(['IDDESA', 'kec_siap', 'kel_siap'], dtype='object')\n"
          ],
          "name": "stdout"
        }
      ]
    },
    {
      "cell_type": "markdown",
      "metadata": {
        "id": "Zb8t7WY_OGdY",
        "colab_type": "text"
      },
      "source": [
        "## One Time Data"
      ]
    },
    {
      "cell_type": "code",
      "metadata": {
        "id": "xItsoyK9Muzz",
        "colab_type": "code",
        "colab": {}
      },
      "source": [
        "ot = pd.read_csv(path+OT)\n",
        "ot = formatdf(ot)\n",
        "ot.head(2)"
      ],
      "execution_count": 0,
      "outputs": []
    },
    {
      "cell_type": "code",
      "metadata": {
        "id": "5DTMBBrf8rCg",
        "colab_type": "code",
        "outputId": "db290e52-44cb-4e52-a9c5-691df7a9e606",
        "colab": {
          "base_uri": "https://localhost:8080/",
          "height": 51
        }
      },
      "source": [
        "# put IDDESA as a *key to shapefile\n",
        "print(\"before merging: {}\".format(ot.shape))\n",
        "ot = pd.merge(ot, shp_code,  how='outer', left_on=['Kecamatan','Kelurahan'], right_on=['kec_siap','kel_siap'])\n",
        "ot.drop(columns=ot.columns[-2:],inplace=True)\n",
        "print(\"after merging: {}\".format(ot.shape))"
      ],
      "execution_count": 0,
      "outputs": [
        {
          "output_type": "stream",
          "text": [
            "before merging: (4132, 10)\n",
            "after merging: (4132, 11)\n"
          ],
          "name": "stdout"
        }
      ]
    },
    {
      "cell_type": "markdown",
      "metadata": {
        "id": "wcwc-h4SOJ33",
        "colab_type": "text"
      },
      "source": [
        "## Weekly data"
      ]
    },
    {
      "cell_type": "code",
      "metadata": {
        "id": "ZGemtEJMMZsP",
        "colab_type": "code",
        "colab": {}
      },
      "source": [
        "wk = pd.read_csv(path+WK)\n",
        "wk = formatdf(wk)\n",
        "wk.head(1)"
      ],
      "execution_count": 0,
      "outputs": []
    },
    {
      "cell_type": "code",
      "metadata": {
        "id": "kWfGs01z-Jud",
        "colab_type": "code",
        "outputId": "28e29f5e-4a16-4c7d-f0d1-e231a0be9b01",
        "colab": {
          "base_uri": "https://localhost:8080/",
          "height": 51
        }
      },
      "source": [
        "# put IDDESA as a *key to shapefile\n",
        "print(\"before merging: {}\".format(wk.shape))\n",
        "wk = pd.merge(wk, shp_code,  how='inner', left_on=['Kecamatan','Kelurahan'], right_on=['kec_siap','kel_siap'])\n",
        "wk.drop(columns=wk.columns[-2:],inplace=True)\n",
        "print(\"after merging: {}\".format(wk.shape))"
      ],
      "execution_count": 0,
      "outputs": [
        {
          "output_type": "stream",
          "text": [
            "before merging: (3769, 23)\n",
            "after merging: (3769, 24)\n"
          ],
          "name": "stdout"
        }
      ]
    },
    {
      "cell_type": "markdown",
      "metadata": {
        "id": "9D0n-BoeONuB",
        "colab_type": "text"
      },
      "source": [
        "## Monthly data"
      ]
    },
    {
      "cell_type": "code",
      "metadata": {
        "id": "9iYQLfUrOBln",
        "colab_type": "code",
        "colab": {}
      },
      "source": [
        "mt = pd.read_csv(path+MT)\n",
        "mt = formatdf(mt)\n",
        "mt.head(1)"
      ],
      "execution_count": 0,
      "outputs": []
    },
    {
      "cell_type": "code",
      "metadata": {
        "id": "VJhB1o5v-3Qg",
        "colab_type": "code",
        "outputId": "005d0731-6776-4498-b563-744cfb06366e",
        "colab": {
          "base_uri": "https://localhost:8080/",
          "height": 51
        }
      },
      "source": [
        "# put IDDESA as a *key to shapefile\n",
        "print(\"before merging: {}\".format(mt.shape))\n",
        "mt = pd.merge(mt, shp_code,  how='inner', left_on=['Kecamatan','Kelurahan'], right_on=['kec_siap','kel_siap'])\n",
        "mt.drop(columns=mt.columns[-2:],inplace=True)\n",
        "print(\"after merging: {}\".format(mt.shape))"
      ],
      "execution_count": 0,
      "outputs": [
        {
          "output_type": "stream",
          "text": [
            "before merging: (3533, 67)\n",
            "after merging: (3533, 68)\n"
          ],
          "name": "stdout"
        }
      ]
    },
    {
      "cell_type": "markdown",
      "metadata": {
        "id": "UqfxOPngTHtF",
        "colab_type": "text"
      },
      "source": [
        "# Recapitulation"
      ]
    },
    {
      "cell_type": "code",
      "metadata": {
        "id": "XpOtRBtVgsc2",
        "colab_type": "code",
        "colab": {}
      },
      "source": [
        "# Count the number of RW per Kelurahans\n",
        "rwlist = pd.merge(rwlist, shp_code,  how='outer', left_on=['Kecamatan','Kelurahan'], \n",
        "                  right_on=['kec_siap','kel_siap'])\n",
        "rwlist.drop(columns=rwlist.columns[-2:],inplace=True)\n",
        "allRWperKEL = rwlist.groupby(['IDDESA','Kecamatan','Kelurahan'])[['RW']].count()\n",
        "allRWperKEL.reset_index(inplace=True)"
      ],
      "execution_count": 0,
      "outputs": []
    },
    {
      "cell_type": "code",
      "metadata": {
        "id": "hWPM05e7pus5",
        "colab_type": "code",
        "colab": {}
      },
      "source": [
        "def RTcounter(df):\n",
        "  \"\"\"\n",
        "  Count the frequency of RT's submission\n",
        "  df: downloaded data\n",
        "  \"\"\"\n",
        "  data = {\"IDDESA\":[],\"Kecamatan\":[],\"Kelurahan\":[],\"RW\":[],\"RT\":[],\"Frequency\":[]}\n",
        "  for id in df[\"IDDESA\"].unique():\n",
        "    for rw in df[df[\"IDDESA\"]==id][\"RW\"].unique():\n",
        "      for _, row in df[(df[\"IDDESA\"]==id)&(df[\"RW\"]==rw)][\"RT\"].value_counts().reset_index().iterrows():\n",
        "        data[\"IDDESA\"].append(id)\n",
        "        data[\"Kecamatan\"].append(df[df[\"IDDESA\"]==id][\"Kecamatan\"].iloc[0])\n",
        "        data[\"Kelurahan\"].append(df[df[\"IDDESA\"]==id][\"Kelurahan\"].iloc[0])\n",
        "        data[\"RW\"].append(rw)\n",
        "        data[\"RT\"].append(row[\"index\"])\n",
        "        data[\"Frequency\"].append(row[\"RT\"])\n",
        "  return data"
      ],
      "execution_count": 0,
      "outputs": []
    },
    {
      "cell_type": "code",
      "metadata": {
        "id": "ZyafjG0MMAuw",
        "colab_type": "code",
        "colab": {}
      },
      "source": [
        "def RTperRW(df):\n",
        "  \"\"\"\n",
        "  Count the number of RTs in each RWs (duplicate is not included)\n",
        "  df: dataframe after RTcounter()\n",
        "  \"\"\"\n",
        "  rt = pd.DataFrame(df.drop(\"Frequency\",axis=1).groupby(['IDDESA','Kecamatan','Kelurahan','RW'])[['RW']].count())\n",
        "  rt.rename(columns={\"RW\":\"RT counts\"}, inplace=True)\n",
        "  rt = rt.reset_index()\n",
        "  return rt\n",
        "\n",
        "def RWperKEL(df):\n",
        "  \"\"\"\n",
        "  Count the number of RWs in each Kelurahans\n",
        "  df: dataframe after RTperRW()\n",
        "  \"\"\"\n",
        "  d = df.copy()\n",
        "  d[\"RW counts\"] = 1\n",
        "  rw = d.groupby(['IDDESA','Kecamatan','Kelurahan'])[['RW counts','RT counts']].apply(sum)\n",
        "  rw = rw.reset_index()\n",
        "  rw = pd.merge(rw, allRWperKEL,  how='outer', left_on=['IDDESA','Kecamatan','Kelurahan'],\n",
        "                right_on=['IDDESA','Kecamatan','Kelurahan']).fillna(0)\n",
        "  rw.rename(columns={\"RW\":\"Actual RW\"},inplace=True)\n",
        "  rw[[\"RW counts\",\"RT counts\"]] = rw[[\"RW counts\",\"RT counts\"]].astype(int)\n",
        "  rw[\"RW (%)\"] =  100-((rw[\"Actual RW\"]-rw[\"RW counts\"])/rw[\"Actual RW\"]*100)\n",
        "  rw[\"RW (%)\"] = rw[\"RW (%)\"].round(2)\n",
        "  return rw\n",
        "\n",
        "def KelperKec(df):\n",
        "  \"\"\"\n",
        "  Count the number of Kelurahan in each Kecamatans\n",
        "  df: dataframe after RWperKEL() \n",
        "  \"\"\"\n",
        "  d = df.copy()\n",
        "  d[\"IDDESA\"] = d[\"IDDESA\"].astype(str).str[:-3].astype(int)\n",
        "  d = d.groupby(['IDDESA','Kecamatan'])[['RW counts','RT counts',\"Actual RW\"]].apply(sum)\n",
        "  d[\"RW (%)\"] =  100-((d[\"Actual RW\"]-d[\"RW counts\"])/d[\"Actual RW\"]*100)\n",
        "  d[\"RW (%)\"] = d[\"RW (%)\"].round(2)\n",
        "  return d"
      ],
      "execution_count": 0,
      "outputs": []
    },
    {
      "cell_type": "code",
      "metadata": {
        "id": "0QtAz2FOT9Hw",
        "colab_type": "code",
        "colab": {}
      },
      "source": [
        "def saver(df,fname,sname,mode):\n",
        "  \"\"\"\n",
        "  General function to save file as an excel file with multiple sheets\n",
        "  df: dataframe\n",
        "  fname: excel filename\n",
        "  sname: sheetname to be saved as\n",
        "  mode: 'w' for write (if no previous docs exists), 'a' for append\n",
        "  \"\"\"\n",
        "  TodaysDate = time.strftime(\"%d-%m-%Y\")\n",
        "  excelfilename = fname + TodaysDate +\".xlsx\"\n",
        "  filename = path_output+excelfilename\n",
        "  if mode==\"a\":\n",
        "    writer = pd.ExcelWriter(filename, engine='openpyxl', mode='a')\n",
        "    writer.book = load_workbook(filename)\n",
        "    df.to_excel(writer,sheet_name=sname)\n",
        "    writer.save()\n",
        "    writer.close()\n",
        "  elif mode==\"w\":\n",
        "    writer = pd.ExcelWriter(filename, engine='openpyxl', mode='w')\n",
        "    df.to_excel(writer,sheet_name=sname)\n",
        "    writer.save()\n",
        "    writer.close()  \n",
        "  else:\n",
        "    print(\"Mode must be chosen between 'w' or 'a'\")"
      ],
      "execution_count": 0,
      "outputs": []
    },
    {
      "cell_type": "code",
      "metadata": {
        "id": "z5qk2atda9xS",
        "colab_type": "code",
        "colab": {}
      },
      "source": [
        "def RTnRWrecap(df,sname,mode):\n",
        "  \"\"\"\n",
        "  df: dataframe after RTperRW()\n",
        "  sname: sheet name (OT/Weekly/Monthly)\n",
        "  mode: 'w' for write (if no previous docs exists), 'a' for append\n",
        "  \"\"\"\n",
        "  x = pd.merge(df, rwlist,  how='outer', left_on=['IDDESA','Kecamatan','Kelurahan',\"RW\"],\n",
        "              right_on=['IDDESA','Kecamatan','Kelurahan',\"RW\"]).fillna(0)         \n",
        "  x[\"RT counts\"] = x[\"RT counts\"].astype(int)\n",
        "  x = pd.DataFrame(data=list(x[\"RT counts\"].value_counts()),\n",
        "                  index=[x[\"RT counts\"].value_counts().index],columns=[\"No of RW\"])\n",
        "  x = x.reset_index()\n",
        "  x.columns = [\"No of participating RTs\",\"No of RW\"]\n",
        "  saver(x,\"RT value counts per RW \",sname,mode)\n",
        "  x.sort_values(\"No of participating RTs\").plot.bar(x='No of participating RTs', y='No of RW')\n",
        "  pl.xticks(rotation=0)\n",
        "  pl.title(sname+\" Data Recapitulation\")"
      ],
      "execution_count": 0,
      "outputs": []
    },
    {
      "cell_type": "code",
      "metadata": {
        "id": "lre1_AVRlucY",
        "colab_type": "code",
        "colab": {}
      },
      "source": [
        "# check RW with zero participation\n",
        "def zeroRW(df,sname,mode):\n",
        "  \"\"\"\n",
        "  Collects a list of RW with zero participation.\n",
        "  df: dataframe after RTperRW()\n",
        "  sname: sheetname to be saved as\n",
        "  mode: 'w' for write (if no docs exists), 'a' for append\n",
        "  \"\"\"\n",
        "  zeroRW = pd.merge(df, rwlist,  how='outer', \n",
        "                    left_on=['IDDESA','Kecamatan','Kelurahan','RW'], \n",
        "                    right_on=['IDDESA','Kecamatan','Kelurahan','RW']).fillna(0)\n",
        "  zeroRW[\"RT counts\"] = zeroRW[\"RT counts\"].astype(int)\n",
        "  zeroRW = zeroRW[zeroRW[\"RT counts\"]==0]\n",
        "  saver(zeroRW,\"Zero RW \",sname,mode)\n",
        "  return zeroRW"
      ],
      "execution_count": 0,
      "outputs": []
    },
    {
      "cell_type": "code",
      "metadata": {
        "id": "3K4zpfs2Wdvy",
        "colab_type": "code",
        "colab": {}
      },
      "source": [
        "# save duplicate entries\n",
        "def save_duplicates(freq,df,sname,mode):\n",
        "  \"\"\"\n",
        "  freq: dataframe of data entry recapitulation\n",
        "  df: original dataframe of ot/wk/mt (the downloaded data)\n",
        "  sname: filename to be saved as\n",
        "  mode: 'w' for write (if document haven't created), 'a' for append\n",
        "  \"\"\"\n",
        "  d = pd.DataFrame()\n",
        "  for _, row in freq[freq[\"Frequency\"]>1].iterrows():\n",
        "    a = df[(df[\"Kecamatan\"]==row[\"Kecamatan\"])&(df[\"Kelurahan\"]==row[\"Kelurahan\"])&\n",
        "          (df[\"RW\"]==row[\"RW\"])&(df[\"RT\"]==row[\"RT\"])]\n",
        "    d = d.append(a)\n",
        "  saver(d,\"Duplicates \",sname,mode)  \n",
        "  return d"
      ],
      "execution_count": 0,
      "outputs": []
    },
    {
      "cell_type": "markdown",
      "metadata": {
        "id": "0c6aNdDt8AcA",
        "colab_type": "text"
      },
      "source": [
        "## RT's Participation"
      ]
    },
    {
      "cell_type": "markdown",
      "metadata": {
        "id": "us7miBXrPYrB",
        "colab_type": "text"
      },
      "source": [
        "### One Time Data"
      ]
    },
    {
      "cell_type": "code",
      "metadata": {
        "id": "_ZF-kWJoOnjy",
        "colab_type": "code",
        "outputId": "ed17e22e-930f-44b9-a19e-f8e979d7e224",
        "colab": {
          "base_uri": "https://localhost:8080/",
          "height": 111
        }
      },
      "source": [
        "no_rt_ot = pd.DataFrame(RTcounter(ot))\n",
        "no_rt_ot.head(2)"
      ],
      "execution_count": 0,
      "outputs": [
        {
          "output_type": "execute_result",
          "data": {
            "text/html": [
              "<div>\n",
              "<style scoped>\n",
              "    .dataframe tbody tr th:only-of-type {\n",
              "        vertical-align: middle;\n",
              "    }\n",
              "\n",
              "    .dataframe tbody tr th {\n",
              "        vertical-align: top;\n",
              "    }\n",
              "\n",
              "    .dataframe thead th {\n",
              "        text-align: right;\n",
              "    }\n",
              "</style>\n",
              "<table border=\"1\" class=\"dataframe\">\n",
              "  <thead>\n",
              "    <tr style=\"text-align: right;\">\n",
              "      <th></th>\n",
              "      <th>IDDESA</th>\n",
              "      <th>Kecamatan</th>\n",
              "      <th>Kelurahan</th>\n",
              "      <th>RW</th>\n",
              "      <th>RT</th>\n",
              "      <th>Frequency</th>\n",
              "    </tr>\n",
              "  </thead>\n",
              "  <tbody>\n",
              "    <tr>\n",
              "      <th>0</th>\n",
              "      <td>3374070003</td>\n",
              "      <td>Tembalang</td>\n",
              "      <td>Kramas</td>\n",
              "      <td>2</td>\n",
              "      <td>2</td>\n",
              "      <td>2</td>\n",
              "    </tr>\n",
              "    <tr>\n",
              "      <th>1</th>\n",
              "      <td>3374070003</td>\n",
              "      <td>Tembalang</td>\n",
              "      <td>Kramas</td>\n",
              "      <td>6</td>\n",
              "      <td>3</td>\n",
              "      <td>2</td>\n",
              "    </tr>\n",
              "  </tbody>\n",
              "</table>\n",
              "</div>"
            ],
            "text/plain": [
              "       IDDESA  Kecamatan Kelurahan  RW  RT  Frequency\n",
              "0  3374070003  Tembalang    Kramas   2   2          2\n",
              "1  3374070003  Tembalang    Kramas   6   3          2"
            ]
          },
          "metadata": {
            "tags": []
          },
          "execution_count": 565
        }
      ]
    },
    {
      "cell_type": "code",
      "metadata": {
        "id": "vPh1qwNlSYZO",
        "colab_type": "code",
        "colab": {}
      },
      "source": [
        "# check duplicate entries\n",
        "print(\"no of duplicate entries: {}\".format(len(no_rt_ot[no_rt_ot[\"Frequency\"]>1])))\n",
        "save_duplicates(no_rt_ot,ot,\"OT\",\"w\")"
      ],
      "execution_count": 0,
      "outputs": []
    },
    {
      "cell_type": "code",
      "metadata": {
        "id": "DZmFiMWYmiWC",
        "colab_type": "code",
        "outputId": "117d76b9-6b7b-4da1-97c7-00ab215d64dd",
        "colab": {
          "base_uri": "https://localhost:8080/",
          "height": 111
        }
      },
      "source": [
        "# Counts the number of RT submission in each RWs\n",
        "rt_ot = RTperRW(no_rt_ot)\n",
        "rt_ot.head(2)"
      ],
      "execution_count": 0,
      "outputs": [
        {
          "output_type": "execute_result",
          "data": {
            "text/html": [
              "<div>\n",
              "<style scoped>\n",
              "    .dataframe tbody tr th:only-of-type {\n",
              "        vertical-align: middle;\n",
              "    }\n",
              "\n",
              "    .dataframe tbody tr th {\n",
              "        vertical-align: top;\n",
              "    }\n",
              "\n",
              "    .dataframe thead th {\n",
              "        text-align: right;\n",
              "    }\n",
              "</style>\n",
              "<table border=\"1\" class=\"dataframe\">\n",
              "  <thead>\n",
              "    <tr style=\"text-align: right;\">\n",
              "      <th></th>\n",
              "      <th>IDDESA</th>\n",
              "      <th>Kecamatan</th>\n",
              "      <th>Kelurahan</th>\n",
              "      <th>RW</th>\n",
              "      <th>RT counts</th>\n",
              "    </tr>\n",
              "  </thead>\n",
              "  <tbody>\n",
              "    <tr>\n",
              "      <th>0</th>\n",
              "      <td>3374010001</td>\n",
              "      <td>Mijen</td>\n",
              "      <td>Cangkiran</td>\n",
              "      <td>2</td>\n",
              "      <td>2</td>\n",
              "    </tr>\n",
              "    <tr>\n",
              "      <th>1</th>\n",
              "      <td>3374010001</td>\n",
              "      <td>Mijen</td>\n",
              "      <td>Cangkiran</td>\n",
              "      <td>3</td>\n",
              "      <td>2</td>\n",
              "    </tr>\n",
              "  </tbody>\n",
              "</table>\n",
              "</div>"
            ],
            "text/plain": [
              "       IDDESA Kecamatan  Kelurahan  RW  RT counts\n",
              "0  3374010001     Mijen  Cangkiran   2          2\n",
              "1  3374010001     Mijen  Cangkiran   3          2"
            ]
          },
          "metadata": {
            "tags": []
          },
          "execution_count": 573
        }
      ]
    },
    {
      "cell_type": "markdown",
      "metadata": {
        "id": "7NbmtCgAPbX9",
        "colab_type": "text"
      },
      "source": [
        "### Weekly Data"
      ]
    },
    {
      "cell_type": "code",
      "metadata": {
        "id": "c5vdys1wO23j",
        "colab_type": "code",
        "outputId": "d3be67b0-d22f-4e08-b3be-fe8074246f94",
        "colab": {
          "base_uri": "https://localhost:8080/",
          "height": 111
        }
      },
      "source": [
        "no_rt_wk = pd.DataFrame(RTcounter(wk))\n",
        "no_rt_wk.head(2)"
      ],
      "execution_count": 0,
      "outputs": [
        {
          "output_type": "execute_result",
          "data": {
            "text/html": [
              "<div>\n",
              "<style scoped>\n",
              "    .dataframe tbody tr th:only-of-type {\n",
              "        vertical-align: middle;\n",
              "    }\n",
              "\n",
              "    .dataframe tbody tr th {\n",
              "        vertical-align: top;\n",
              "    }\n",
              "\n",
              "    .dataframe thead th {\n",
              "        text-align: right;\n",
              "    }\n",
              "</style>\n",
              "<table border=\"1\" class=\"dataframe\">\n",
              "  <thead>\n",
              "    <tr style=\"text-align: right;\">\n",
              "      <th></th>\n",
              "      <th>IDDESA</th>\n",
              "      <th>Kecamatan</th>\n",
              "      <th>Kelurahan</th>\n",
              "      <th>RW</th>\n",
              "      <th>RT</th>\n",
              "      <th>Frequency</th>\n",
              "    </tr>\n",
              "  </thead>\n",
              "  <tbody>\n",
              "    <tr>\n",
              "      <th>0</th>\n",
              "      <td>3374070010</td>\n",
              "      <td>Tembalang</td>\n",
              "      <td>Tandang</td>\n",
              "      <td>9</td>\n",
              "      <td>10</td>\n",
              "      <td>2</td>\n",
              "    </tr>\n",
              "    <tr>\n",
              "      <th>1</th>\n",
              "      <td>3374070010</td>\n",
              "      <td>Tembalang</td>\n",
              "      <td>Tandang</td>\n",
              "      <td>9</td>\n",
              "      <td>4</td>\n",
              "      <td>1</td>\n",
              "    </tr>\n",
              "  </tbody>\n",
              "</table>\n",
              "</div>"
            ],
            "text/plain": [
              "       IDDESA  Kecamatan Kelurahan  RW  RT  Frequency\n",
              "0  3374070010  Tembalang   Tandang   9  10          2\n",
              "1  3374070010  Tembalang   Tandang   9   4          1"
            ]
          },
          "metadata": {
            "tags": []
          },
          "execution_count": 542
        }
      ]
    },
    {
      "cell_type": "code",
      "metadata": {
        "id": "-1AfIQ_zSlMQ",
        "colab_type": "code",
        "colab": {}
      },
      "source": [
        "# check duplicate entries\n",
        "print(\"no of duplicate entries: {}\".format(len(no_rt_wk[no_rt_wk[\"Frequency\"]>1])))\n",
        "save_duplicates(no_rt_wk,wk,\"Weekly\",\"a\")"
      ],
      "execution_count": 0,
      "outputs": []
    },
    {
      "cell_type": "code",
      "metadata": {
        "id": "mBvz6Pzvntg6",
        "colab_type": "code",
        "outputId": "09eb41a9-ac32-481b-fd9d-d2328893b038",
        "colab": {
          "base_uri": "https://localhost:8080/",
          "height": 111
        }
      },
      "source": [
        "# Counts the number of RT submission in each RWs\n",
        "rt_wk = RTperRW(no_rt_wk)\n",
        "rt_wk.head(2)"
      ],
      "execution_count": 0,
      "outputs": [
        {
          "output_type": "execute_result",
          "data": {
            "text/html": [
              "<div>\n",
              "<style scoped>\n",
              "    .dataframe tbody tr th:only-of-type {\n",
              "        vertical-align: middle;\n",
              "    }\n",
              "\n",
              "    .dataframe tbody tr th {\n",
              "        vertical-align: top;\n",
              "    }\n",
              "\n",
              "    .dataframe thead th {\n",
              "        text-align: right;\n",
              "    }\n",
              "</style>\n",
              "<table border=\"1\" class=\"dataframe\">\n",
              "  <thead>\n",
              "    <tr style=\"text-align: right;\">\n",
              "      <th></th>\n",
              "      <th>IDDESA</th>\n",
              "      <th>Kecamatan</th>\n",
              "      <th>Kelurahan</th>\n",
              "      <th>RW</th>\n",
              "      <th>RT counts</th>\n",
              "    </tr>\n",
              "  </thead>\n",
              "  <tbody>\n",
              "    <tr>\n",
              "      <th>0</th>\n",
              "      <td>3374010001</td>\n",
              "      <td>Mijen</td>\n",
              "      <td>Cangkiran</td>\n",
              "      <td>1</td>\n",
              "      <td>2</td>\n",
              "    </tr>\n",
              "    <tr>\n",
              "      <th>1</th>\n",
              "      <td>3374010001</td>\n",
              "      <td>Mijen</td>\n",
              "      <td>Cangkiran</td>\n",
              "      <td>2</td>\n",
              "      <td>2</td>\n",
              "    </tr>\n",
              "  </tbody>\n",
              "</table>\n",
              "</div>"
            ],
            "text/plain": [
              "       IDDESA Kecamatan  Kelurahan  RW  RT counts\n",
              "0  3374010001     Mijen  Cangkiran   1          2\n",
              "1  3374010001     Mijen  Cangkiran   2          2"
            ]
          },
          "metadata": {
            "tags": []
          },
          "execution_count": 578
        }
      ]
    },
    {
      "cell_type": "markdown",
      "metadata": {
        "id": "aMxmcXGHPgkl",
        "colab_type": "text"
      },
      "source": [
        "### Monthly Data"
      ]
    },
    {
      "cell_type": "code",
      "metadata": {
        "id": "pK7oyPOdPEgK",
        "colab_type": "code",
        "outputId": "1ac33af0-6ca0-41f2-9608-1c43dae48da7",
        "colab": {
          "base_uri": "https://localhost:8080/",
          "height": 111
        }
      },
      "source": [
        "no_rt_mt = pd.DataFrame(RTcounter(mt))\n",
        "no_rt_mt.head(2)"
      ],
      "execution_count": 0,
      "outputs": [
        {
          "output_type": "execute_result",
          "data": {
            "text/html": [
              "<div>\n",
              "<style scoped>\n",
              "    .dataframe tbody tr th:only-of-type {\n",
              "        vertical-align: middle;\n",
              "    }\n",
              "\n",
              "    .dataframe tbody tr th {\n",
              "        vertical-align: top;\n",
              "    }\n",
              "\n",
              "    .dataframe thead th {\n",
              "        text-align: right;\n",
              "    }\n",
              "</style>\n",
              "<table border=\"1\" class=\"dataframe\">\n",
              "  <thead>\n",
              "    <tr style=\"text-align: right;\">\n",
              "      <th></th>\n",
              "      <th>IDDESA</th>\n",
              "      <th>Kecamatan</th>\n",
              "      <th>Kelurahan</th>\n",
              "      <th>RW</th>\n",
              "      <th>RT</th>\n",
              "      <th>Frequency</th>\n",
              "    </tr>\n",
              "  </thead>\n",
              "  <tbody>\n",
              "    <tr>\n",
              "      <th>0</th>\n",
              "      <td>3374020005</td>\n",
              "      <td>Gunungpati</td>\n",
              "      <td>Mangunsari</td>\n",
              "      <td>4</td>\n",
              "      <td>7</td>\n",
              "      <td>1</td>\n",
              "    </tr>\n",
              "    <tr>\n",
              "      <th>1</th>\n",
              "      <td>3374020005</td>\n",
              "      <td>Gunungpati</td>\n",
              "      <td>Mangunsari</td>\n",
              "      <td>4</td>\n",
              "      <td>6</td>\n",
              "      <td>1</td>\n",
              "    </tr>\n",
              "  </tbody>\n",
              "</table>\n",
              "</div>"
            ],
            "text/plain": [
              "       IDDESA   Kecamatan   Kelurahan  RW  RT  Frequency\n",
              "0  3374020005  Gunungpati  Mangunsari   4   7          1\n",
              "1  3374020005  Gunungpati  Mangunsari   4   6          1"
            ]
          },
          "metadata": {
            "tags": []
          },
          "execution_count": 544
        }
      ]
    },
    {
      "cell_type": "code",
      "metadata": {
        "id": "SBbHfcUySpWj",
        "colab_type": "code",
        "colab": {}
      },
      "source": [
        "# check duplicate entries\n",
        "print(\"no of duplicate entries: {}\".format(len(no_rt_mt[no_rt_mt[\"Frequency\"]>1])))\n",
        "save_duplicates(no_rt_mt,mt,\"Monthly\",\"a\")"
      ],
      "execution_count": 0,
      "outputs": []
    },
    {
      "cell_type": "code",
      "metadata": {
        "id": "zE5janw6oekt",
        "colab_type": "code",
        "outputId": "beb8f1e1-29c3-4344-8ac2-c3a9ff564f3a",
        "colab": {
          "base_uri": "https://localhost:8080/",
          "height": 142
        }
      },
      "source": [
        "rt_mt = RTperRW(no_rt_mt)\n",
        "rt_mt.head(3)"
      ],
      "execution_count": 0,
      "outputs": [
        {
          "output_type": "execute_result",
          "data": {
            "text/html": [
              "<div>\n",
              "<style scoped>\n",
              "    .dataframe tbody tr th:only-of-type {\n",
              "        vertical-align: middle;\n",
              "    }\n",
              "\n",
              "    .dataframe tbody tr th {\n",
              "        vertical-align: top;\n",
              "    }\n",
              "\n",
              "    .dataframe thead th {\n",
              "        text-align: right;\n",
              "    }\n",
              "</style>\n",
              "<table border=\"1\" class=\"dataframe\">\n",
              "  <thead>\n",
              "    <tr style=\"text-align: right;\">\n",
              "      <th></th>\n",
              "      <th>IDDESA</th>\n",
              "      <th>Kecamatan</th>\n",
              "      <th>Kelurahan</th>\n",
              "      <th>RW</th>\n",
              "      <th>RT counts</th>\n",
              "    </tr>\n",
              "  </thead>\n",
              "  <tbody>\n",
              "    <tr>\n",
              "      <th>0</th>\n",
              "      <td>3374010001</td>\n",
              "      <td>Mijen</td>\n",
              "      <td>Cangkiran</td>\n",
              "      <td>2</td>\n",
              "      <td>2</td>\n",
              "    </tr>\n",
              "    <tr>\n",
              "      <th>1</th>\n",
              "      <td>3374010001</td>\n",
              "      <td>Mijen</td>\n",
              "      <td>Cangkiran</td>\n",
              "      <td>3</td>\n",
              "      <td>2</td>\n",
              "    </tr>\n",
              "    <tr>\n",
              "      <th>2</th>\n",
              "      <td>3374010001</td>\n",
              "      <td>Mijen</td>\n",
              "      <td>Cangkiran</td>\n",
              "      <td>4</td>\n",
              "      <td>1</td>\n",
              "    </tr>\n",
              "  </tbody>\n",
              "</table>\n",
              "</div>"
            ],
            "text/plain": [
              "       IDDESA Kecamatan  Kelurahan  RW  RT counts\n",
              "0  3374010001     Mijen  Cangkiran   2          2\n",
              "1  3374010001     Mijen  Cangkiran   3          2\n",
              "2  3374010001     Mijen  Cangkiran   4          1"
            ]
          },
          "metadata": {
            "tags": []
          },
          "execution_count": 579
        }
      ]
    },
    {
      "cell_type": "markdown",
      "metadata": {
        "id": "RlDyXSpfjhmu",
        "colab_type": "text"
      },
      "source": [
        "## RW's participation"
      ]
    },
    {
      "cell_type": "markdown",
      "metadata": {
        "id": "hbuBUnjwBcZS",
        "colab_type": "text"
      },
      "source": [
        "### One Time Data"
      ]
    },
    {
      "cell_type": "code",
      "metadata": {
        "id": "LlZeFuLRKw8e",
        "colab_type": "code",
        "outputId": "fc506519-356d-4505-a1f1-3827913c5bb6",
        "colab": {
          "base_uri": "https://localhost:8080/",
          "height": 128
        }
      },
      "source": [
        "zeroRW_ot = zeroRW(rt_ot,\"OT\",\"w\")\n",
        "print(len(zeroRW_ot))\n",
        "zeroRW_ot.head(2)"
      ],
      "execution_count": 0,
      "outputs": [
        {
          "output_type": "stream",
          "text": [
            "394\n"
          ],
          "name": "stdout"
        },
        {
          "output_type": "execute_result",
          "data": {
            "text/html": [
              "<div>\n",
              "<style scoped>\n",
              "    .dataframe tbody tr th:only-of-type {\n",
              "        vertical-align: middle;\n",
              "    }\n",
              "\n",
              "    .dataframe tbody tr th {\n",
              "        vertical-align: top;\n",
              "    }\n",
              "\n",
              "    .dataframe thead th {\n",
              "        text-align: right;\n",
              "    }\n",
              "</style>\n",
              "<table border=\"1\" class=\"dataframe\">\n",
              "  <thead>\n",
              "    <tr style=\"text-align: right;\">\n",
              "      <th></th>\n",
              "      <th>IDDESA</th>\n",
              "      <th>Kecamatan</th>\n",
              "      <th>Kelurahan</th>\n",
              "      <th>RW</th>\n",
              "      <th>RT counts</th>\n",
              "    </tr>\n",
              "  </thead>\n",
              "  <tbody>\n",
              "    <tr>\n",
              "      <th>1106</th>\n",
              "      <td>3374140008</td>\n",
              "      <td>Semarang Barat</td>\n",
              "      <td>Gisikdrono</td>\n",
              "      <td>1</td>\n",
              "      <td>0</td>\n",
              "    </tr>\n",
              "    <tr>\n",
              "      <th>1107</th>\n",
              "      <td>3374140008</td>\n",
              "      <td>Semarang Barat</td>\n",
              "      <td>Gisikdrono</td>\n",
              "      <td>12</td>\n",
              "      <td>0</td>\n",
              "    </tr>\n",
              "  </tbody>\n",
              "</table>\n",
              "</div>"
            ],
            "text/plain": [
              "          IDDESA       Kecamatan   Kelurahan  RW  RT counts\n",
              "1106  3374140008  Semarang Barat  Gisikdrono   1          0\n",
              "1107  3374140008  Semarang Barat  Gisikdrono  12          0"
            ]
          },
          "metadata": {
            "tags": []
          },
          "execution_count": 575
        }
      ]
    },
    {
      "cell_type": "code",
      "metadata": {
        "id": "1slNvs_7Bb5g",
        "colab_type": "code",
        "outputId": "6504cc2c-c43d-4e5f-ab66-b51fe303ac42",
        "colab": {
          "base_uri": "https://localhost:8080/",
          "height": 111
        }
      },
      "source": [
        "rw_ot = RWperKEL(rt_ot)\n",
        "rw_ot.head(2)"
      ],
      "execution_count": 0,
      "outputs": [
        {
          "output_type": "execute_result",
          "data": {
            "text/html": [
              "<div>\n",
              "<style scoped>\n",
              "    .dataframe tbody tr th:only-of-type {\n",
              "        vertical-align: middle;\n",
              "    }\n",
              "\n",
              "    .dataframe tbody tr th {\n",
              "        vertical-align: top;\n",
              "    }\n",
              "\n",
              "    .dataframe thead th {\n",
              "        text-align: right;\n",
              "    }\n",
              "</style>\n",
              "<table border=\"1\" class=\"dataframe\">\n",
              "  <thead>\n",
              "    <tr style=\"text-align: right;\">\n",
              "      <th></th>\n",
              "      <th>IDDESA</th>\n",
              "      <th>Kecamatan</th>\n",
              "      <th>Kelurahan</th>\n",
              "      <th>RW counts</th>\n",
              "      <th>RT counts</th>\n",
              "      <th>Actual RW</th>\n",
              "      <th>RW (%)</th>\n",
              "    </tr>\n",
              "  </thead>\n",
              "  <tbody>\n",
              "    <tr>\n",
              "      <th>0</th>\n",
              "      <td>3374010001</td>\n",
              "      <td>Mijen</td>\n",
              "      <td>Cangkiran</td>\n",
              "      <td>7</td>\n",
              "      <td>17</td>\n",
              "      <td>8</td>\n",
              "      <td>87.5</td>\n",
              "    </tr>\n",
              "    <tr>\n",
              "      <th>1</th>\n",
              "      <td>3374010002</td>\n",
              "      <td>Mijen</td>\n",
              "      <td>Bubakan</td>\n",
              "      <td>2</td>\n",
              "      <td>4</td>\n",
              "      <td>5</td>\n",
              "      <td>40.0</td>\n",
              "    </tr>\n",
              "  </tbody>\n",
              "</table>\n",
              "</div>"
            ],
            "text/plain": [
              "       IDDESA Kecamatan  Kelurahan  RW counts  RT counts  Actual RW  RW (%)\n",
              "0  3374010001     Mijen  Cangkiran          7         17          8    87.5\n",
              "1  3374010002     Mijen    Bubakan          2          4          5    40.0"
            ]
          },
          "metadata": {
            "tags": []
          },
          "execution_count": 576
        }
      ]
    },
    {
      "cell_type": "code",
      "metadata": {
        "id": "IxM5yNwabznX",
        "colab_type": "code",
        "outputId": "b9bf7b01-ba59-43bf-c474-8b535d1685f8",
        "colab": {
          "base_uri": "https://localhost:8080/",
          "height": 295
        }
      },
      "source": [
        "RTnRWrecap(rt_ot,\"OT\",\"w\")"
      ],
      "execution_count": 0,
      "outputs": [
        {
          "output_type": "display_data",
          "data": {
            "image/png": "[encoded data removed]",
            "text/plain": [
              "<Figure size 432x288 with 1 Axes>"
            ]
          },
          "metadata": {
            "tags": [],
            "needs_background": "light"
          }
        }
      ]
    },
    {
      "cell_type": "markdown",
      "metadata": {
        "id": "_yUmoifWCHpo",
        "colab_type": "text"
      },
      "source": [
        "### Weekly Data"
      ]
    },
    {
      "cell_type": "code",
      "metadata": {
        "id": "idN0V4_GLy38",
        "colab_type": "code",
        "outputId": "6a2de5df-e91d-4190-e4c8-b49265273976",
        "colab": {
          "base_uri": "https://localhost:8080/",
          "height": 128
        }
      },
      "source": [
        "zeroRW_wk = zeroRW(rt_wk,\"Weekly\",\"a\")\n",
        "print(len(zeroRW_wk))\n",
        "zeroRW_wk.head(2)"
      ],
      "execution_count": 0,
      "outputs": [
        {
          "output_type": "stream",
          "text": [
            "447\n"
          ],
          "name": "stdout"
        },
        {
          "output_type": "execute_result",
          "data": {
            "text/html": [
              "<div>\n",
              "<style scoped>\n",
              "    .dataframe tbody tr th:only-of-type {\n",
              "        vertical-align: middle;\n",
              "    }\n",
              "\n",
              "    .dataframe tbody tr th {\n",
              "        vertical-align: top;\n",
              "    }\n",
              "\n",
              "    .dataframe thead th {\n",
              "        text-align: right;\n",
              "    }\n",
              "</style>\n",
              "<table border=\"1\" class=\"dataframe\">\n",
              "  <thead>\n",
              "    <tr style=\"text-align: right;\">\n",
              "      <th></th>\n",
              "      <th>IDDESA</th>\n",
              "      <th>Kecamatan</th>\n",
              "      <th>Kelurahan</th>\n",
              "      <th>RW</th>\n",
              "      <th>RT counts</th>\n",
              "    </tr>\n",
              "  </thead>\n",
              "  <tbody>\n",
              "    <tr>\n",
              "      <th>1053</th>\n",
              "      <td>3374140005</td>\n",
              "      <td>Semarang Barat</td>\n",
              "      <td>Bojong Salaman</td>\n",
              "      <td>6</td>\n",
              "      <td>0</td>\n",
              "    </tr>\n",
              "    <tr>\n",
              "      <th>1054</th>\n",
              "      <td>3374140004</td>\n",
              "      <td>Semarang Barat</td>\n",
              "      <td>Bongsari</td>\n",
              "      <td>7</td>\n",
              "      <td>0</td>\n",
              "    </tr>\n",
              "  </tbody>\n",
              "</table>\n",
              "</div>"
            ],
            "text/plain": [
              "          IDDESA       Kecamatan       Kelurahan  RW  RT counts\n",
              "1053  3374140005  Semarang Barat  Bojong Salaman   6          0\n",
              "1054  3374140004  Semarang Barat        Bongsari   7          0"
            ]
          },
          "metadata": {
            "tags": []
          },
          "execution_count": 580
        }
      ]
    },
    {
      "cell_type": "code",
      "metadata": {
        "id": "xDBJOiv3CNQr",
        "colab_type": "code",
        "outputId": "7e3fd8c9-4be9-4218-df07-009917200ce8",
        "colab": {
          "base_uri": "https://localhost:8080/",
          "height": 111
        }
      },
      "source": [
        "rw_wk = RWperKEL(rt_wk)\n",
        "rw_wk.head(2)"
      ],
      "execution_count": 0,
      "outputs": [
        {
          "output_type": "execute_result",
          "data": {
            "text/html": [
              "<div>\n",
              "<style scoped>\n",
              "    .dataframe tbody tr th:only-of-type {\n",
              "        vertical-align: middle;\n",
              "    }\n",
              "\n",
              "    .dataframe tbody tr th {\n",
              "        vertical-align: top;\n",
              "    }\n",
              "\n",
              "    .dataframe thead th {\n",
              "        text-align: right;\n",
              "    }\n",
              "</style>\n",
              "<table border=\"1\" class=\"dataframe\">\n",
              "  <thead>\n",
              "    <tr style=\"text-align: right;\">\n",
              "      <th></th>\n",
              "      <th>IDDESA</th>\n",
              "      <th>Kecamatan</th>\n",
              "      <th>Kelurahan</th>\n",
              "      <th>RW counts</th>\n",
              "      <th>RT counts</th>\n",
              "      <th>Actual RW</th>\n",
              "      <th>RW (%)</th>\n",
              "    </tr>\n",
              "  </thead>\n",
              "  <tbody>\n",
              "    <tr>\n",
              "      <th>0</th>\n",
              "      <td>3374010001</td>\n",
              "      <td>Mijen</td>\n",
              "      <td>Cangkiran</td>\n",
              "      <td>8</td>\n",
              "      <td>21</td>\n",
              "      <td>8</td>\n",
              "      <td>100.0</td>\n",
              "    </tr>\n",
              "    <tr>\n",
              "      <th>1</th>\n",
              "      <td>3374010002</td>\n",
              "      <td>Mijen</td>\n",
              "      <td>Bubakan</td>\n",
              "      <td>2</td>\n",
              "      <td>4</td>\n",
              "      <td>5</td>\n",
              "      <td>40.0</td>\n",
              "    </tr>\n",
              "  </tbody>\n",
              "</table>\n",
              "</div>"
            ],
            "text/plain": [
              "       IDDESA Kecamatan  Kelurahan  RW counts  RT counts  Actual RW  RW (%)\n",
              "0  3374010001     Mijen  Cangkiran          8         21          8   100.0\n",
              "1  3374010002     Mijen    Bubakan          2          4          5    40.0"
            ]
          },
          "metadata": {
            "tags": []
          },
          "execution_count": 581
        }
      ]
    },
    {
      "cell_type": "code",
      "metadata": {
        "id": "8XduQEY5cOp6",
        "colab_type": "code",
        "outputId": "a5dd30f3-2830-4385-ed8e-493a6b521354",
        "colab": {
          "base_uri": "https://localhost:8080/",
          "height": 295
        }
      },
      "source": [
        "RTnRWrecap(rt_wk,\"Weekly\",\"a\")"
      ],
      "execution_count": 0,
      "outputs": [
        {
          "output_type": "display_data",
          "data": {
            "image/png": "[encoded data removed]",
            "text/plain": [
              "<Figure size 432x288 with 1 Axes>"
            ]
          },
          "metadata": {
            "tags": [],
            "needs_background": "light"
          }
        }
      ]
    },
    {
      "cell_type": "markdown",
      "metadata": {
        "id": "r8NQ8_5MCKdj",
        "colab_type": "text"
      },
      "source": [
        "### Monthly Data"
      ]
    },
    {
      "cell_type": "code",
      "metadata": {
        "id": "lhVEY9HLNVPx",
        "colab_type": "code",
        "outputId": "04607362-d081-4475-86d0-ecc1334bf663",
        "colab": {
          "base_uri": "https://localhost:8080/",
          "height": 128
        }
      },
      "source": [
        "zeroRW_mt = zeroRW(rt_mt,\"Weekly\",\"a\")\n",
        "print(len(zeroRW_mt))\n",
        "zeroRW_mt.head(2)"
      ],
      "execution_count": 0,
      "outputs": [
        {
          "output_type": "stream",
          "text": [
            "489\n"
          ],
          "name": "stdout"
        },
        {
          "output_type": "execute_result",
          "data": {
            "text/html": [
              "<div>\n",
              "<style scoped>\n",
              "    .dataframe tbody tr th:only-of-type {\n",
              "        vertical-align: middle;\n",
              "    }\n",
              "\n",
              "    .dataframe tbody tr th {\n",
              "        vertical-align: top;\n",
              "    }\n",
              "\n",
              "    .dataframe thead th {\n",
              "        text-align: right;\n",
              "    }\n",
              "</style>\n",
              "<table border=\"1\" class=\"dataframe\">\n",
              "  <thead>\n",
              "    <tr style=\"text-align: right;\">\n",
              "      <th></th>\n",
              "      <th>IDDESA</th>\n",
              "      <th>Kecamatan</th>\n",
              "      <th>Kelurahan</th>\n",
              "      <th>RW</th>\n",
              "      <th>RT counts</th>\n",
              "    </tr>\n",
              "  </thead>\n",
              "  <tbody>\n",
              "    <tr>\n",
              "      <th>1011</th>\n",
              "      <td>3374140005</td>\n",
              "      <td>Semarang Barat</td>\n",
              "      <td>Bojong Salaman</td>\n",
              "      <td>6</td>\n",
              "      <td>0</td>\n",
              "    </tr>\n",
              "    <tr>\n",
              "      <th>1012</th>\n",
              "      <td>3374140004</td>\n",
              "      <td>Semarang Barat</td>\n",
              "      <td>Bongsari</td>\n",
              "      <td>7</td>\n",
              "      <td>0</td>\n",
              "    </tr>\n",
              "  </tbody>\n",
              "</table>\n",
              "</div>"
            ],
            "text/plain": [
              "          IDDESA       Kecamatan       Kelurahan  RW  RT counts\n",
              "1011  3374140005  Semarang Barat  Bojong Salaman   6          0\n",
              "1012  3374140004  Semarang Barat        Bongsari   7          0"
            ]
          },
          "metadata": {
            "tags": []
          },
          "execution_count": 583
        }
      ]
    },
    {
      "cell_type": "code",
      "metadata": {
        "id": "QO7QN-LiCMqi",
        "colab_type": "code",
        "outputId": "93c5d9dd-325d-490a-faae-8ad019d1b2ed",
        "colab": {
          "base_uri": "https://localhost:8080/",
          "height": 111
        }
      },
      "source": [
        "rw_mt = RWperKEL(rt_mt)\n",
        "rw_mt.head(2)"
      ],
      "execution_count": 0,
      "outputs": [
        {
          "output_type": "execute_result",
          "data": {
            "text/html": [
              "<div>\n",
              "<style scoped>\n",
              "    .dataframe tbody tr th:only-of-type {\n",
              "        vertical-align: middle;\n",
              "    }\n",
              "\n",
              "    .dataframe tbody tr th {\n",
              "        vertical-align: top;\n",
              "    }\n",
              "\n",
              "    .dataframe thead th {\n",
              "        text-align: right;\n",
              "    }\n",
              "</style>\n",
              "<table border=\"1\" class=\"dataframe\">\n",
              "  <thead>\n",
              "    <tr style=\"text-align: right;\">\n",
              "      <th></th>\n",
              "      <th>IDDESA</th>\n",
              "      <th>Kecamatan</th>\n",
              "      <th>Kelurahan</th>\n",
              "      <th>RW counts</th>\n",
              "      <th>RT counts</th>\n",
              "      <th>Actual RW</th>\n",
              "      <th>RW (%)</th>\n",
              "    </tr>\n",
              "  </thead>\n",
              "  <tbody>\n",
              "    <tr>\n",
              "      <th>0</th>\n",
              "      <td>3374010001</td>\n",
              "      <td>Mijen</td>\n",
              "      <td>Cangkiran</td>\n",
              "      <td>7</td>\n",
              "      <td>15</td>\n",
              "      <td>8</td>\n",
              "      <td>87.5</td>\n",
              "    </tr>\n",
              "    <tr>\n",
              "      <th>1</th>\n",
              "      <td>3374010002</td>\n",
              "      <td>Mijen</td>\n",
              "      <td>Bubakan</td>\n",
              "      <td>1</td>\n",
              "      <td>3</td>\n",
              "      <td>5</td>\n",
              "      <td>20.0</td>\n",
              "    </tr>\n",
              "  </tbody>\n",
              "</table>\n",
              "</div>"
            ],
            "text/plain": [
              "       IDDESA Kecamatan  Kelurahan  RW counts  RT counts  Actual RW  RW (%)\n",
              "0  3374010001     Mijen  Cangkiran          7         15          8    87.5\n",
              "1  3374010002     Mijen    Bubakan          1          3          5    20.0"
            ]
          },
          "metadata": {
            "tags": []
          },
          "execution_count": 584
        }
      ]
    },
    {
      "cell_type": "code",
      "metadata": {
        "id": "bIVJEgg3cUVH",
        "colab_type": "code",
        "outputId": "d177a8e5-f534-44e9-e43d-ce7ae600ab10",
        "colab": {
          "base_uri": "https://localhost:8080/",
          "height": 295
        }
      },
      "source": [
        "RTnRWrecap(rt_mt,\"Monthly\",\"a\")"
      ],
      "execution_count": 0,
      "outputs": [
        {
          "output_type": "display_data",
          "data": {
            "image/png": "[encoded data removed]",
            "text/plain": [
              "<Figure size 432x288 with 1 Axes>"
            ]
          },
          "metadata": {
            "tags": [],
            "needs_background": "light"
          }
        }
      ]
    },
    {
      "cell_type": "markdown",
      "metadata": {
        "id": "xUodtgggCeQx",
        "colab_type": "text"
      },
      "source": [
        "## Kelurahan's participation"
      ]
    },
    {
      "cell_type": "markdown",
      "metadata": {
        "id": "X_YpjQsSc30G",
        "colab_type": "text"
      },
      "source": [
        "### One Time Data"
      ]
    },
    {
      "cell_type": "code",
      "metadata": {
        "id": "1illr6qdeFZo",
        "colab_type": "code",
        "outputId": "2c16b3ae-5bc3-488f-90bd-98fee38d688b",
        "colab": {
          "base_uri": "https://localhost:8080/",
          "height": 142
        }
      },
      "source": [
        "kel_ot = KelperKec(rw_ot)\n",
        "kel_ot.head(2)"
      ],
      "execution_count": 0,
      "outputs": [
        {
          "output_type": "execute_result",
          "data": {
            "text/html": [
              "<div>\n",
              "<style scoped>\n",
              "    .dataframe tbody tr th:only-of-type {\n",
              "        vertical-align: middle;\n",
              "    }\n",
              "\n",
              "    .dataframe tbody tr th {\n",
              "        vertical-align: top;\n",
              "    }\n",
              "\n",
              "    .dataframe thead th {\n",
              "        text-align: right;\n",
              "    }\n",
              "</style>\n",
              "<table border=\"1\" class=\"dataframe\">\n",
              "  <thead>\n",
              "    <tr style=\"text-align: right;\">\n",
              "      <th></th>\n",
              "      <th></th>\n",
              "      <th>RW counts</th>\n",
              "      <th>RT counts</th>\n",
              "      <th>Actual RW</th>\n",
              "      <th>RW (%)</th>\n",
              "    </tr>\n",
              "    <tr>\n",
              "      <th>IDDESA</th>\n",
              "      <th>Kecamatan</th>\n",
              "      <th></th>\n",
              "      <th></th>\n",
              "      <th></th>\n",
              "      <th></th>\n",
              "    </tr>\n",
              "  </thead>\n",
              "  <tbody>\n",
              "    <tr>\n",
              "      <th>3374010</th>\n",
              "      <th>Mijen</th>\n",
              "      <td>64</td>\n",
              "      <td>157</td>\n",
              "      <td>87</td>\n",
              "      <td>73.56</td>\n",
              "    </tr>\n",
              "    <tr>\n",
              "      <th>3374020</th>\n",
              "      <th>Gunungpati</th>\n",
              "      <td>85</td>\n",
              "      <td>271</td>\n",
              "      <td>97</td>\n",
              "      <td>87.63</td>\n",
              "    </tr>\n",
              "  </tbody>\n",
              "</table>\n",
              "</div>"
            ],
            "text/plain": [
              "                    RW counts  RT counts  Actual RW  RW (%)\n",
              "IDDESA  Kecamatan                                          \n",
              "3374010 Mijen              64        157         87   73.56\n",
              "3374020 Gunungpati         85        271         97   87.63"
            ]
          },
          "metadata": {
            "tags": []
          },
          "execution_count": 644
        }
      ]
    },
    {
      "cell_type": "markdown",
      "metadata": {
        "id": "AE4_I8tYgK9b",
        "colab_type": "text"
      },
      "source": [
        "### Weekly"
      ]
    },
    {
      "cell_type": "code",
      "metadata": {
        "id": "3zUP2vLikeH-",
        "colab_type": "code",
        "outputId": "b1a9d281-c5d8-49e7-f605-26c6a352525e",
        "colab": {
          "base_uri": "https://localhost:8080/",
          "height": 142
        }
      },
      "source": [
        "kel_wk = KelperKec(rw_wk)\n",
        "kel_wk.head(2)"
      ],
      "execution_count": 0,
      "outputs": [
        {
          "output_type": "execute_result",
          "data": {
            "text/html": [
              "<div>\n",
              "<style scoped>\n",
              "    .dataframe tbody tr th:only-of-type {\n",
              "        vertical-align: middle;\n",
              "    }\n",
              "\n",
              "    .dataframe tbody tr th {\n",
              "        vertical-align: top;\n",
              "    }\n",
              "\n",
              "    .dataframe thead th {\n",
              "        text-align: right;\n",
              "    }\n",
              "</style>\n",
              "<table border=\"1\" class=\"dataframe\">\n",
              "  <thead>\n",
              "    <tr style=\"text-align: right;\">\n",
              "      <th></th>\n",
              "      <th></th>\n",
              "      <th>RW counts</th>\n",
              "      <th>RT counts</th>\n",
              "      <th>Actual RW</th>\n",
              "      <th>RW (%)</th>\n",
              "    </tr>\n",
              "    <tr>\n",
              "      <th>IDDESA</th>\n",
              "      <th>Kecamatan</th>\n",
              "      <th></th>\n",
              "      <th></th>\n",
              "      <th></th>\n",
              "      <th></th>\n",
              "    </tr>\n",
              "  </thead>\n",
              "  <tbody>\n",
              "    <tr>\n",
              "      <th>3374010</th>\n",
              "      <th>Mijen</th>\n",
              "      <td>59</td>\n",
              "      <td>146</td>\n",
              "      <td>87</td>\n",
              "      <td>67.82</td>\n",
              "    </tr>\n",
              "    <tr>\n",
              "      <th>3374020</th>\n",
              "      <th>Gunungpati</th>\n",
              "      <td>83</td>\n",
              "      <td>251</td>\n",
              "      <td>97</td>\n",
              "      <td>85.57</td>\n",
              "    </tr>\n",
              "  </tbody>\n",
              "</table>\n",
              "</div>"
            ],
            "text/plain": [
              "                    RW counts  RT counts  Actual RW  RW (%)\n",
              "IDDESA  Kecamatan                                          \n",
              "3374010 Mijen              59        146         87   67.82\n",
              "3374020 Gunungpati         83        251         97   85.57"
            ]
          },
          "metadata": {
            "tags": []
          },
          "execution_count": 645
        }
      ]
    },
    {
      "cell_type": "markdown",
      "metadata": {
        "id": "uAJIZT-pgNn-",
        "colab_type": "text"
      },
      "source": [
        "### Monthly"
      ]
    },
    {
      "cell_type": "code",
      "metadata": {
        "id": "aWtQUIg_jeap",
        "colab_type": "code",
        "outputId": "90666b53-fc2b-4758-bda4-c9f415805097",
        "colab": {
          "base_uri": "https://localhost:8080/",
          "height": 142
        }
      },
      "source": [
        "kel_mt = KelperKec(rw_mt)\n",
        "kel_mt.head(2)"
      ],
      "execution_count": 0,
      "outputs": [
        {
          "output_type": "execute_result",
          "data": {
            "text/html": [
              "<div>\n",
              "<style scoped>\n",
              "    .dataframe tbody tr th:only-of-type {\n",
              "        vertical-align: middle;\n",
              "    }\n",
              "\n",
              "    .dataframe tbody tr th {\n",
              "        vertical-align: top;\n",
              "    }\n",
              "\n",
              "    .dataframe thead th {\n",
              "        text-align: right;\n",
              "    }\n",
              "</style>\n",
              "<table border=\"1\" class=\"dataframe\">\n",
              "  <thead>\n",
              "    <tr style=\"text-align: right;\">\n",
              "      <th></th>\n",
              "      <th></th>\n",
              "      <th>RW counts</th>\n",
              "      <th>RT counts</th>\n",
              "      <th>Actual RW</th>\n",
              "      <th>RW (%)</th>\n",
              "    </tr>\n",
              "    <tr>\n",
              "      <th>IDDESA</th>\n",
              "      <th>Kecamatan</th>\n",
              "      <th></th>\n",
              "      <th></th>\n",
              "      <th></th>\n",
              "      <th></th>\n",
              "    </tr>\n",
              "  </thead>\n",
              "  <tbody>\n",
              "    <tr>\n",
              "      <th>3374010</th>\n",
              "      <th>Mijen</th>\n",
              "      <td>57</td>\n",
              "      <td>139</td>\n",
              "      <td>87</td>\n",
              "      <td>65.52</td>\n",
              "    </tr>\n",
              "    <tr>\n",
              "      <th>3374020</th>\n",
              "      <th>Gunungpati</th>\n",
              "      <td>82</td>\n",
              "      <td>248</td>\n",
              "      <td>97</td>\n",
              "      <td>84.54</td>\n",
              "    </tr>\n",
              "  </tbody>\n",
              "</table>\n",
              "</div>"
            ],
            "text/plain": [
              "                    RW counts  RT counts  Actual RW  RW (%)\n",
              "IDDESA  Kecamatan                                          \n",
              "3374010 Mijen              57        139         87   65.52\n",
              "3374020 Gunungpati         82        248         97   84.54"
            ]
          },
          "metadata": {
            "tags": []
          },
          "execution_count": 646
        }
      ]
    },
    {
      "cell_type": "markdown",
      "metadata": {
        "id": "fWBOYnK3StfJ",
        "colab_type": "text"
      },
      "source": [
        "## Save recapitulation file"
      ]
    },
    {
      "cell_type": "code",
      "metadata": {
        "id": "1S5YmCHPW_G0",
        "colab_type": "code",
        "colab": {}
      },
      "source": [
        "recap_files = {\"OT\":{\"RT\":rt_ot,\"RW\":rw_ot,\"kel\":kel_ot},\n",
        "               \"Weekly\":{\"RT\":rt_wk,\"RW\":rw_wk,\"kel\":kel_wk},\n",
        "               \"Monthly\":{\"RT\":rt_mt,\"RW\":rw_mt,\"kel\":kel_mt}}\n",
        "data_name = [\"OT\",\"Weekly\",\"Monthly\"]\n",
        "level_com = [\"RT\",\"RW\",\"kel\"]"
      ],
      "execution_count": 0,
      "outputs": []
    },
    {
      "cell_type": "code",
      "metadata": {
        "id": "x__3U8hMgiWK",
        "colab_type": "code",
        "colab": {}
      },
      "source": [
        "for data in data_name:\n",
        "  for level in level_com:\n",
        "    if data==\"OT\" and level==\"RT\":\n",
        "      saver(recap_files[data][level],\"Recap \",data+\" \"+level,'w')\n",
        "    else:\n",
        "      saver(recap_files[data][level],\"Recap \",data+\" \"+level,'a')"
      ],
      "execution_count": 0,
      "outputs": []
    },
    {
      "cell_type": "markdown",
      "metadata": {
        "id": "kd-Aksvq79ym",
        "colab_type": "text"
      },
      "source": [
        "# OT cleaning"
      ]
    },
    {
      "cell_type": "code",
      "metadata": {
        "id": "aulwYg4w1Ce1",
        "colab_type": "code",
        "colab": {}
      },
      "source": [
        ""
      ],
      "execution_count": 0,
      "outputs": []
    },
    {
      "cell_type": "code",
      "metadata": {
        "id": "SAP5Gq1y6qAz",
        "colab_type": "code",
        "colab": {}
      },
      "source": [
        ""
      ],
      "execution_count": 0,
      "outputs": []
    }
  ]
}